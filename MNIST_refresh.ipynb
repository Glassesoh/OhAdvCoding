{
  "nbformat": 4,
  "nbformat_minor": 0,
  "metadata": {
    "colab": {
      "provenance": [],
      "mount_file_id": "1psyFjMphQYNF2IJzDRAqdEmPcXjitz-V",
      "authorship_tag": "ABX9TyOsC8s3xIhjuPu2V5urzzbB",
      "include_colab_link": true
    },
    "kernelspec": {
      "name": "python3",
      "display_name": "Python 3"
    },
    "language_info": {
      "name": "python"
    },
    "accelerator": "GPU"
  },
  "cells": [
    {
      "cell_type": "markdown",
      "metadata": {
        "id": "view-in-github",
        "colab_type": "text"
      },
      "source": [
        "<a href=\"https://colab.research.google.com/github/Glassesoh/OhAdvCoding/blob/main/MNIST_refresh.ipynb\" target=\"_parent\"><img src=\"https://colab.research.google.com/assets/colab-badge.svg\" alt=\"Open In Colab\"/></a>"
      ]
    },
    {
      "cell_type": "code",
      "source": [
        "from google.colab import drive\n",
        "drive.mount('/content/drive')"
      ],
      "metadata": {
        "colab": {
          "base_uri": "https://localhost:8080/"
        },
        "id": "sg3HyMnmiuUG",
        "outputId": "fb264b11-b96e-4c70-968f-f8c12b73bf40"
      },
      "execution_count": 1,
      "outputs": [
        {
          "output_type": "stream",
          "name": "stdout",
          "text": [
            "Mounted at /content/drive\n"
          ]
        }
      ]
    },
    {
      "cell_type": "code",
      "source": [
        "import numpy as np\n",
        "import pandas as pd\n",
        "import glob\n",
        "import tensorflow as tf\n",
        "from matplotlib import pyplot as plt\n",
        "from sklearn.model_selection import KFold\n",
        "from tensorflow.keras.datasets import mnist\n",
        "from tensorflow.keras.utils import to_categorical\n",
        "from tensorflow.keras.models import Sequential\n",
        "from tensorflow.keras.layers import Conv2D, MaxPooling2D,Dense, Flatten\n",
        "from tensorflow.keras.optimizers import SGD\n",
        "from tensorflow.keras.models import Model\n"
      ],
      "metadata": {
        "id": "lugP3uJRyDXk"
      },
      "execution_count": 2,
      "outputs": []
    },
    {
      "cell_type": "code",
      "source": [
        "\n",
        "(trainX,trainY),(testX,testY) = mnist.load_data()\n",
        "trainX = trainX.reshape((trainX.shape[0], 28, 28,1)).astype('float32')\n",
        "testX = testX.reshape((testX.shape[0], 28, 28,1)).astype('float32')\n",
        "trainX=trainX/255\n",
        "testX=testX/255\n",
        "trainY = to_categorical(trainY,num_classes=10)\n",
        "testY = to_categorical(testY,num_classes=10)\n",
        "\n"
      ],
      "metadata": {
        "id": "XQ6EikSG46em",
        "colab": {
          "base_uri": "https://localhost:8080/"
        },
        "outputId": "a39cca34-aa5b-4a77-b0c6-b49af43bc472"
      },
      "execution_count": 3,
      "outputs": [
        {
          "output_type": "stream",
          "name": "stdout",
          "text": [
            "Downloading data from https://storage.googleapis.com/tensorflow/tf-keras-datasets/mnist.npz\n",
            "11490434/11490434 [==============================] - 0s 0us/step\n"
          ]
        }
      ]
    },
    {
      "cell_type": "code",
      "source": [
        "\n",
        "model= tf.keras.models.Sequential([\n",
        "  tf.keras.layers.Conv2D(filters=32,kernel_size=(3,3), padding='same', activation='relu',input_shape=(28,28,1)),\n",
        "  tf.keras.layers.MaxPooling2D(pool_size=(2,2),strides=1,padding='same'),\n",
        "  tf.keras.layers.Conv2D(filters=32,kernel_size=(3,3), padding='same', activation='relu'),\n",
        "  tf.keras.layers.MaxPooling2D(pool_size=(2,2),strides=1,padding='same'),\n",
        "  tf.keras.layers.Conv2D(filters=1,kernel_size=(3,3), padding='same', activation='relu'),\n",
        "  tf.keras.layers.MaxPooling2D(pool_size=(2,2),strides=1,padding='same'),\n",
        "  tf.keras.layers.Flatten(),\n",
        "  tf.keras.layers.Dense(128,activation='relu'),\n",
        "  tf.keras.layers.Dropout(0.2),\n",
        "  tf.keras.layers.Dense(10,activation='sigmoid')\n",
        "])\n",
        "model.compile(optimizer='Adam',\n",
        "              loss='categorical_crossentropy',\n",
        "              metrics=['accuracy'])\n",
        "model.summary()"
      ],
      "metadata": {
        "colab": {
          "base_uri": "https://localhost:8080/"
        },
        "id": "ziHblq84KSzF",
        "outputId": "8a0ff57b-1b98-4ac1-8f6f-d733d91dd82c"
      },
      "execution_count": 4,
      "outputs": [
        {
          "output_type": "stream",
          "name": "stdout",
          "text": [
            "Model: \"sequential\"\n",
            "_________________________________________________________________\n",
            " Layer (type)                Output Shape              Param #   \n",
            "=================================================================\n",
            " conv2d (Conv2D)             (None, 28, 28, 32)        320       \n",
            "                                                                 \n",
            " max_pooling2d (MaxPooling2  (None, 28, 28, 32)        0         \n",
            " D)                                                              \n",
            "                                                                 \n",
            " conv2d_1 (Conv2D)           (None, 28, 28, 32)        9248      \n",
            "                                                                 \n",
            " max_pooling2d_1 (MaxPoolin  (None, 28, 28, 32)        0         \n",
            " g2D)                                                            \n",
            "                                                                 \n",
            " conv2d_2 (Conv2D)           (None, 28, 28, 1)         289       \n",
            "                                                                 \n",
            " max_pooling2d_2 (MaxPoolin  (None, 28, 28, 1)         0         \n",
            " g2D)                                                            \n",
            "                                                                 \n",
            " flatten (Flatten)           (None, 784)               0         \n",
            "                                                                 \n",
            " dense (Dense)               (None, 128)               100480    \n",
            "                                                                 \n",
            " dropout (Dropout)           (None, 128)               0         \n",
            "                                                                 \n",
            " dense_1 (Dense)             (None, 10)                1290      \n",
            "                                                                 \n",
            "=================================================================\n",
            "Total params: 111627 (436.04 KB)\n",
            "Trainable params: 111627 (436.04 KB)\n",
            "Non-trainable params: 0 (0.00 Byte)\n",
            "_________________________________________________________________\n"
          ]
        }
      ]
    },
    {
      "cell_type": "code",
      "source": [
        "history=model.fit(trainX,trainY,epochs=20,validation_data=(testX,testY))"
      ],
      "metadata": {
        "id": "6lMSl6-ZZgOh",
        "colab": {
          "base_uri": "https://localhost:8080/"
        },
        "outputId": "ba684182-85e0-4fb1-8700-ac95bb47421e"
      },
      "execution_count": null,
      "outputs": [
        {
          "output_type": "stream",
          "name": "stdout",
          "text": [
            "Epoch 1/20\n",
            "1875/1875 [==============================] - 16s 6ms/step - loss: 0.2223 - accuracy: 0.9311 - val_loss: 0.0817 - val_accuracy: 0.9741\n",
            "Epoch 2/20\n",
            "1875/1875 [==============================] - 9s 5ms/step - loss: 0.1008 - accuracy: 0.9694 - val_loss: 0.0689 - val_accuracy: 0.9781\n",
            "Epoch 3/20\n",
            "1875/1875 [==============================] - 10s 5ms/step - loss: 0.0828 - accuracy: 0.9742 - val_loss: 0.0559 - val_accuracy: 0.9820\n",
            "Epoch 4/20\n",
            "1875/1875 [==============================] - 10s 5ms/step - loss: 0.0677 - accuracy: 0.9788 - val_loss: 0.0550 - val_accuracy: 0.9813\n",
            "Epoch 5/20\n",
            "1875/1875 [==============================] - 9s 5ms/step - loss: 0.0576 - accuracy: 0.9817 - val_loss: 0.0576 - val_accuracy: 0.9821\n",
            "Epoch 6/20\n",
            "1875/1875 [==============================] - 11s 6ms/step - loss: 0.0524 - accuracy: 0.9832 - val_loss: 0.0518 - val_accuracy: 0.9833\n",
            "Epoch 7/20\n",
            "1875/1875 [==============================] - 13s 7ms/step - loss: 0.0462 - accuracy: 0.9854 - val_loss: 0.0495 - val_accuracy: 0.9860\n",
            "Epoch 8/20\n",
            "1875/1875 [==============================] - 9s 5ms/step - loss: 0.0419 - accuracy: 0.9863 - val_loss: 0.0429 - val_accuracy: 0.9865\n",
            "Epoch 9/20\n",
            "1875/1875 [==============================] - 9s 5ms/step - loss: 0.0375 - accuracy: 0.9876 - val_loss: 0.0456 - val_accuracy: 0.9853\n",
            "Epoch 10/20\n",
            "1875/1875 [==============================] - 10s 5ms/step - loss: 0.0344 - accuracy: 0.9888 - val_loss: 0.0498 - val_accuracy: 0.9860\n",
            "Epoch 11/20\n",
            "1875/1875 [==============================] - 9s 5ms/step - loss: 0.0326 - accuracy: 0.9890 - val_loss: 0.0426 - val_accuracy: 0.9874\n",
            "Epoch 12/20\n",
            "1875/1875 [==============================] - 10s 5ms/step - loss: 0.0302 - accuracy: 0.9900 - val_loss: 0.0451 - val_accuracy: 0.9862\n",
            "Epoch 13/20\n",
            "1875/1875 [==============================] - 9s 5ms/step - loss: 0.0280 - accuracy: 0.9905 - val_loss: 0.0450 - val_accuracy: 0.9868\n",
            "Epoch 14/20\n",
            "1875/1875 [==============================] - 9s 5ms/step - loss: 0.0279 - accuracy: 0.9906 - val_loss: 0.0510 - val_accuracy: 0.9852\n",
            "Epoch 15/20\n",
            "1834/1875 [============================>.] - ETA: 0s - loss: 0.0254 - accuracy: 0.9917"
          ]
        }
      ]
    },
    {
      "cell_type": "code",
      "source": [
        "result=model.evaluate(testX,testY)\n",
        "print('Accuracy',result[1]*100)"
      ],
      "metadata": {
        "id": "X8OeN4OiV-Ii"
      },
      "execution_count": null,
      "outputs": []
    },
    {
      "cell_type": "code",
      "source": [
        "import matplotlib.pyplot as plt\n",
        "ax=plt.subplots()\n",
        "ax.plot(epoch)"
      ],
      "metadata": {
        "id": "idxtuuczTWgs"
      },
      "execution_count": null,
      "outputs": []
    },
    {
      "cell_type": "code",
      "source": [
        "from PIL import Image\n",
        "import os\n",
        "path='drive/MyDrive/MNIST_testdata/'\n",
        "folders=os.listdir(path)\n",
        "x = []\n",
        "y = []\n",
        "for i in folders:\n",
        "  files=glob.glob(os.path.join(path,i)+'/*')\n",
        "  for i,file in enumerate(files):\n",
        "    if i % 20 == 0:\n",
        "      print(i,'/',len(files))\n",
        "    im = Image.open(file)\n",
        "    im = im.convert('RGB')\n",
        "    im = im.resize((28,28,1))\n",
        "    data = np.asarray(im)\n",
        "    x.append(data)\n",
        "x = np.array(x)\n",
        "\n",
        "x = x.astype('float32')/ 255\n",
        "\n",
        "ctestX=x"
      ],
      "metadata": {
        "id": "22uoRuftjDUY"
      },
      "execution_count": null,
      "outputs": []
    },
    {
      "cell_type": "code",
      "source": [
        "pdtx=model.predict(testX)\n",
        "classx=np.argmax(pdtx,axis=1)\n",
        "plt.imshow(testX[77].reshape(28,28))\n",
        "print(\"The prediction for the 1st data is :\", classx[50])\n",
        "#plt.imshow(testX[11].reshape(28,28))"
      ],
      "metadata": {
        "id": "zopr_Cf0KYtV",
        "colab": {
          "base_uri": "https://localhost:8080/",
          "height": 234
        },
        "outputId": "ef8dc019-f2ee-4361-a1e2-a4ad6c379052"
      },
      "execution_count": null,
      "outputs": [
        {
          "output_type": "error",
          "ename": "NameError",
          "evalue": "ignored",
          "traceback": [
            "\u001b[0;31m---------------------------------------------------------------------------\u001b[0m",
            "\u001b[0;31mNameError\u001b[0m                                 Traceback (most recent call last)",
            "\u001b[0;32m<ipython-input-1-562d83dc25f9>\u001b[0m in \u001b[0;36m<module>\u001b[0;34m()\u001b[0m\n\u001b[0;32m----> 1\u001b[0;31m \u001b[0mpdtx\u001b[0m\u001b[0;34m=\u001b[0m\u001b[0mmodel\u001b[0m\u001b[0;34m.\u001b[0m\u001b[0mpredict\u001b[0m\u001b[0;34m(\u001b[0m\u001b[0mtestX\u001b[0m\u001b[0;34m)\u001b[0m\u001b[0;34m\u001b[0m\u001b[0;34m\u001b[0m\u001b[0m\n\u001b[0m\u001b[1;32m      2\u001b[0m \u001b[0mclassx\u001b[0m\u001b[0;34m=\u001b[0m\u001b[0mnp\u001b[0m\u001b[0;34m.\u001b[0m\u001b[0margmax\u001b[0m\u001b[0;34m(\u001b[0m\u001b[0mpdtx\u001b[0m\u001b[0;34m,\u001b[0m\u001b[0maxis\u001b[0m\u001b[0;34m=\u001b[0m\u001b[0;36m1\u001b[0m\u001b[0;34m)\u001b[0m\u001b[0;34m\u001b[0m\u001b[0;34m\u001b[0m\u001b[0m\n\u001b[1;32m      3\u001b[0m \u001b[0mplt\u001b[0m\u001b[0;34m.\u001b[0m\u001b[0mimshow\u001b[0m\u001b[0;34m(\u001b[0m\u001b[0mtestX\u001b[0m\u001b[0;34m[\u001b[0m\u001b[0;36m77\u001b[0m\u001b[0;34m]\u001b[0m\u001b[0;34m.\u001b[0m\u001b[0mreshape\u001b[0m\u001b[0;34m(\u001b[0m\u001b[0;36m28\u001b[0m\u001b[0;34m,\u001b[0m\u001b[0;36m28\u001b[0m\u001b[0;34m)\u001b[0m\u001b[0;34m)\u001b[0m\u001b[0;34m\u001b[0m\u001b[0;34m\u001b[0m\u001b[0m\n\u001b[1;32m      4\u001b[0m \u001b[0mprint\u001b[0m\u001b[0;34m(\u001b[0m\u001b[0;34m\"The prediction for the 1st data is :\"\u001b[0m\u001b[0;34m,\u001b[0m \u001b[0mclassx\u001b[0m\u001b[0;34m[\u001b[0m\u001b[0;36m50\u001b[0m\u001b[0;34m]\u001b[0m\u001b[0;34m)\u001b[0m\u001b[0;34m\u001b[0m\u001b[0;34m\u001b[0m\u001b[0m\n\u001b[1;32m      5\u001b[0m \u001b[0;31m#plt.imshow(testX[11].reshape(28,28))\u001b[0m\u001b[0;34m\u001b[0m\u001b[0;34m\u001b[0m\u001b[0;34m\u001b[0m\u001b[0m\n",
            "\u001b[0;31mNameError\u001b[0m: name 'model' is not defined"
          ]
        }
      ]
    },
    {
      "cell_type": "markdown",
      "source": [],
      "metadata": {
        "id": "pfZyvmC5Qre1"
      }
    },
    {
      "cell_type": "code",
      "source": [
        "np.savetxt('drive/MyDrive/prediction/prediction.py',classx)"
      ],
      "metadata": {
        "id": "aPyAC-vrKbos"
      },
      "execution_count": null,
      "outputs": []
    },
    {
      "cell_type": "markdown",
      "source": [],
      "metadata": {
        "id": "0e3g5jDMQrSX"
      }
    },
    {
      "cell_type": "code",
      "source": [],
      "metadata": {
        "id": "vcqNwq0nKdka"
      },
      "execution_count": null,
      "outputs": []
    },
    {
      "cell_type": "code",
      "source": [],
      "metadata": {
        "id": "gFoF7pdXKk2o"
      },
      "execution_count": null,
      "outputs": []
    }
  ]
}